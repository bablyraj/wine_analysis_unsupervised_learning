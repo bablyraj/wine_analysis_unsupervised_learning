{
 "cells": [
  {
   "cell_type": "code",
   "execution_count": 58,
   "id": "009819a5-3b88-43fd-a9ad-9db5e5b17981",
   "metadata": {},
   "outputs": [],
   "source": [
    "# Step-1 Research about the variables and understand them\n",
    "\n",
    "# Loading a Clean Data-set\n",
    "import pandas as pd\n",
    "wine_data = pd.read_csv(\"Cleaned_Wine_Data-USL Project.csv\")"
   ]
  },
  {
   "cell_type": "code",
   "execution_count": 59,
   "id": "d572e573-6dd5-41d2-be45-d98a1cae4807",
   "metadata": {},
   "outputs": [
    {
     "name": "stdout",
     "output_type": "stream",
     "text": [
      "wine_summary\n"
     ]
    },
    {
     "data": {
      "text/html": [
       "<div>\n",
       "<style scoped>\n",
       "    .dataframe tbody tr th:only-of-type {\n",
       "        vertical-align: middle;\n",
       "    }\n",
       "\n",
       "    .dataframe tbody tr th {\n",
       "        vertical-align: top;\n",
       "    }\n",
       "\n",
       "    .dataframe thead th {\n",
       "        text-align: right;\n",
       "    }\n",
       "</style>\n",
       "<table border=\"1\" class=\"dataframe\">\n",
       "  <thead>\n",
       "    <tr style=\"text-align: right;\">\n",
       "      <th></th>\n",
       "      <th>Class</th>\n",
       "      <th>Alcohol</th>\n",
       "      <th>Malic_Acid</th>\n",
       "      <th>Ash</th>\n",
       "      <th>Alcalinity_of_Ash</th>\n",
       "      <th>Magnesium</th>\n",
       "      <th>Total_Phenols</th>\n",
       "      <th>Flavanoids</th>\n",
       "      <th>Nonflavanoid_Phenols</th>\n",
       "      <th>Proanthocyanins</th>\n",
       "      <th>Color_Intensity</th>\n",
       "      <th>Hue</th>\n",
       "      <th>OD280/OD315</th>\n",
       "      <th>Proline</th>\n",
       "    </tr>\n",
       "  </thead>\n",
       "  <tbody>\n",
       "    <tr>\n",
       "      <th>count</th>\n",
       "      <td>177.000000</td>\n",
       "      <td>177.000000</td>\n",
       "      <td>177.000000</td>\n",
       "      <td>177.000000</td>\n",
       "      <td>177.000000</td>\n",
       "      <td>177.000000</td>\n",
       "      <td>177.000000</td>\n",
       "      <td>177.000000</td>\n",
       "      <td>177.000000</td>\n",
       "      <td>177.000000</td>\n",
       "      <td>177.000000</td>\n",
       "      <td>177.000000</td>\n",
       "      <td>177.000000</td>\n",
       "      <td>177.000000</td>\n",
       "    </tr>\n",
       "    <tr>\n",
       "      <th>mean</th>\n",
       "      <td>1.943503</td>\n",
       "      <td>12.993672</td>\n",
       "      <td>2.339887</td>\n",
       "      <td>2.366158</td>\n",
       "      <td>19.516949</td>\n",
       "      <td>99.587571</td>\n",
       "      <td>2.292260</td>\n",
       "      <td>2.023446</td>\n",
       "      <td>0.362316</td>\n",
       "      <td>1.586949</td>\n",
       "      <td>5.054802</td>\n",
       "      <td>0.956983</td>\n",
       "      <td>2.604294</td>\n",
       "      <td>745.096045</td>\n",
       "    </tr>\n",
       "    <tr>\n",
       "      <th>std</th>\n",
       "      <td>0.773991</td>\n",
       "      <td>0.808808</td>\n",
       "      <td>1.119314</td>\n",
       "      <td>0.275080</td>\n",
       "      <td>3.336071</td>\n",
       "      <td>14.174018</td>\n",
       "      <td>0.626465</td>\n",
       "      <td>0.998658</td>\n",
       "      <td>0.124653</td>\n",
       "      <td>0.571545</td>\n",
       "      <td>2.324446</td>\n",
       "      <td>0.229135</td>\n",
       "      <td>0.705103</td>\n",
       "      <td>314.884046</td>\n",
       "    </tr>\n",
       "    <tr>\n",
       "      <th>min</th>\n",
       "      <td>1.000000</td>\n",
       "      <td>11.030000</td>\n",
       "      <td>0.740000</td>\n",
       "      <td>1.360000</td>\n",
       "      <td>10.600000</td>\n",
       "      <td>70.000000</td>\n",
       "      <td>0.980000</td>\n",
       "      <td>0.340000</td>\n",
       "      <td>0.130000</td>\n",
       "      <td>0.410000</td>\n",
       "      <td>1.280000</td>\n",
       "      <td>0.480000</td>\n",
       "      <td>1.270000</td>\n",
       "      <td>278.000000</td>\n",
       "    </tr>\n",
       "    <tr>\n",
       "      <th>25%</th>\n",
       "      <td>1.000000</td>\n",
       "      <td>12.360000</td>\n",
       "      <td>1.600000</td>\n",
       "      <td>2.210000</td>\n",
       "      <td>17.200000</td>\n",
       "      <td>88.000000</td>\n",
       "      <td>1.740000</td>\n",
       "      <td>1.200000</td>\n",
       "      <td>0.270000</td>\n",
       "      <td>1.250000</td>\n",
       "      <td>3.210000</td>\n",
       "      <td>0.780000</td>\n",
       "      <td>1.930000</td>\n",
       "      <td>500.000000</td>\n",
       "    </tr>\n",
       "    <tr>\n",
       "      <th>50%</th>\n",
       "      <td>2.000000</td>\n",
       "      <td>13.050000</td>\n",
       "      <td>1.870000</td>\n",
       "      <td>2.360000</td>\n",
       "      <td>19.500000</td>\n",
       "      <td>98.000000</td>\n",
       "      <td>2.350000</td>\n",
       "      <td>2.130000</td>\n",
       "      <td>0.340000</td>\n",
       "      <td>1.550000</td>\n",
       "      <td>4.680000</td>\n",
       "      <td>0.960000</td>\n",
       "      <td>2.780000</td>\n",
       "      <td>672.000000</td>\n",
       "    </tr>\n",
       "    <tr>\n",
       "      <th>75%</th>\n",
       "      <td>3.000000</td>\n",
       "      <td>13.670000</td>\n",
       "      <td>3.100000</td>\n",
       "      <td>2.560000</td>\n",
       "      <td>21.500000</td>\n",
       "      <td>107.000000</td>\n",
       "      <td>2.800000</td>\n",
       "      <td>2.860000</td>\n",
       "      <td>0.440000</td>\n",
       "      <td>1.950000</td>\n",
       "      <td>6.200000</td>\n",
       "      <td>1.120000</td>\n",
       "      <td>3.170000</td>\n",
       "      <td>985.000000</td>\n",
       "    </tr>\n",
       "    <tr>\n",
       "      <th>max</th>\n",
       "      <td>3.000000</td>\n",
       "      <td>14.830000</td>\n",
       "      <td>5.800000</td>\n",
       "      <td>3.230000</td>\n",
       "      <td>30.000000</td>\n",
       "      <td>162.000000</td>\n",
       "      <td>3.880000</td>\n",
       "      <td>5.080000</td>\n",
       "      <td>0.660000</td>\n",
       "      <td>3.580000</td>\n",
       "      <td>13.000000</td>\n",
       "      <td>1.710000</td>\n",
       "      <td>4.000000</td>\n",
       "      <td>1680.000000</td>\n",
       "    </tr>\n",
       "  </tbody>\n",
       "</table>\n",
       "</div>"
      ],
      "text/plain": [
       "            Class     Alcohol  Malic_Acid         Ash  Alcalinity_of_Ash  \\\n",
       "count  177.000000  177.000000  177.000000  177.000000         177.000000   \n",
       "mean     1.943503   12.993672    2.339887    2.366158          19.516949   \n",
       "std      0.773991    0.808808    1.119314    0.275080           3.336071   \n",
       "min      1.000000   11.030000    0.740000    1.360000          10.600000   \n",
       "25%      1.000000   12.360000    1.600000    2.210000          17.200000   \n",
       "50%      2.000000   13.050000    1.870000    2.360000          19.500000   \n",
       "75%      3.000000   13.670000    3.100000    2.560000          21.500000   \n",
       "max      3.000000   14.830000    5.800000    3.230000          30.000000   \n",
       "\n",
       "        Magnesium  Total_Phenols  Flavanoids  Nonflavanoid_Phenols  \\\n",
       "count  177.000000     177.000000  177.000000            177.000000   \n",
       "mean    99.587571       2.292260    2.023446              0.362316   \n",
       "std     14.174018       0.626465    0.998658              0.124653   \n",
       "min     70.000000       0.980000    0.340000              0.130000   \n",
       "25%     88.000000       1.740000    1.200000              0.270000   \n",
       "50%     98.000000       2.350000    2.130000              0.340000   \n",
       "75%    107.000000       2.800000    2.860000              0.440000   \n",
       "max    162.000000       3.880000    5.080000              0.660000   \n",
       "\n",
       "       Proanthocyanins  Color_Intensity         Hue  OD280/OD315      Proline  \n",
       "count       177.000000       177.000000  177.000000   177.000000   177.000000  \n",
       "mean          1.586949         5.054802    0.956983     2.604294   745.096045  \n",
       "std           0.571545         2.324446    0.229135     0.705103   314.884046  \n",
       "min           0.410000         1.280000    0.480000     1.270000   278.000000  \n",
       "25%           1.250000         3.210000    0.780000     1.930000   500.000000  \n",
       "50%           1.550000         4.680000    0.960000     2.780000   672.000000  \n",
       "75%           1.950000         6.200000    1.120000     3.170000   985.000000  \n",
       "max           3.580000        13.000000    1.710000     4.000000  1680.000000  "
      ]
     },
     "metadata": {},
     "output_type": "display_data"
    }
   ],
   "source": [
    "# Describing & dispaying the Dataset\n",
    "wine_summary = wine_data.describe()\n",
    "print(\"wine_summary\")\n",
    "display(wine_summary)"
   ]
  },
  {
   "cell_type": "code",
   "execution_count": 60,
   "id": "0251c7b9-3fca-401b-9b5f-e515670cea8e",
   "metadata": {},
   "outputs": [
    {
     "data": {
      "text/plain": [
       "Class                   0\n",
       "Alcohol                 0\n",
       "Malic_Acid              0\n",
       "Ash                     0\n",
       "Alcalinity_of_Ash       0\n",
       "Magnesium               0\n",
       "Total_Phenols           0\n",
       "Flavanoids              0\n",
       "Nonflavanoid_Phenols    0\n",
       "Proanthocyanins         0\n",
       "Color_Intensity         0\n",
       "Hue                     0\n",
       "OD280/OD315             0\n",
       "Proline                 0\n",
       "dtype: int64"
      ]
     },
     "execution_count": 60,
     "metadata": {},
     "output_type": "execute_result"
    }
   ],
   "source": [
    "# Checking For Missing/Null Values\n",
    "wine_summary.isnull().sum()"
   ]
  },
  {
   "cell_type": "code",
   "execution_count": 61,
   "id": "71fa6141-5871-42e9-a696-241380dfb12c",
   "metadata": {},
   "outputs": [
    {
     "name": "stdout",
     "output_type": "stream",
     "text": [
      "\n",
      " Data Scaling is done\n"
     ]
    }
   ],
   "source": [
    "# Step 2)Identified and scaled the data using StandardScale for Clustering\n",
    "\n",
    "# Step 2.1) Separate features and Target Variable\n",
    "x= wine_data.drop(\"Class\", axis=1)\n",
    "y= wine_data[\"Class\"]\n",
    "\n",
    "from sklearn.preprocessing import StandardScaler\n",
    "scaler =StandardScaler()\n",
    "x_scaled = scaler.fit_transform(x)\n",
    "print(\"\\n Data Scaling is done\")"
   ]
  },
  {
   "cell_type": "code",
   "execution_count": 62,
   "id": "605012e6-95b3-414e-b029-2a2e49b4b5a5",
   "metadata": {},
   "outputs": [
    {
     "name": "stdout",
     "output_type": "stream",
     "text": [
      "Categorical variables= []\n",
      "Target Variables = class\n"
     ]
    }
   ],
   "source": [
    "# Step 2.2) Identifying Categorical & Target variables\n",
    "\n",
    "categorical_variables = wine_data.select_dtypes(include=[\"object\"]).columns.tolist()\n",
    "target_variables =\"class\"\n",
    "\n",
    "print(f\"Categorical variables= {categorical_variables}\")\n",
    "print(f\"Target Variables = {target_variables}\")"
   ]
  },
  {
   "cell_type": "code",
   "execution_count": 63,
   "id": "ee6d04d6-c793-4729-b432-3d7170ddf361",
   "metadata": {},
   "outputs": [
    {
     "name": "stdout",
     "output_type": "stream",
     "text": [
      "Outliers removed! New shape: (16, 14)\n"
     ]
    }
   ],
   "source": [
    "# Step 2.3) Removing Outliers \n",
    "\n",
    "wine_data_cleaned = wine_data[((wine_data < wine_data.quantile(0.25) - 1.5 * (wine_data.quantile(0.75) - wine_data.quantile(0.25))) | \n",
    "                                (wine_data > wine_data.quantile(0.75) + 1.5 * (wine_data.quantile(0.75) - wine_data.quantile(0.25)))).any(axis=1)]\n",
    "\n",
    "print(f\"Outliers removed! New shape: {wine_data_cleaned.shape}\")"
   ]
  },
  {
   "cell_type": "code",
   "execution_count": 64,
   "id": "174107f5-3173-432f-8753-3702fa5ce70c",
   "metadata": {},
   "outputs": [
    {
     "name": "stdout",
     "output_type": "stream",
     "text": [
      "PCA applied! Reduced shape: (16, 1)\n"
     ]
    }
   ],
   "source": [
    "# Step 2.4) Appling PCA [Principal Component Analysis] to Reduce Dimensions/Shape\n",
    "\n",
    "from sklearn.decomposition import PCA\n",
    "X_pca = PCA(n_components=0.95).fit_transform(wine_data_cleaned.drop(\"Class\", axis=1))\n",
    "\n",
    "print(f\"PCA applied! Reduced shape: {X_pca.shape}\")\n",
    "\n",
    "## PCA done while Retaining 95% Variance....."
   ]
  },
  {
   "cell_type": "code",
   "execution_count": 65,
   "id": "3a4c8c7a-9af0-4487-aa88-e31ce5be1ee9",
   "metadata": {},
   "outputs": [
    {
     "data": {
      "image/png": "[encoded data removed]",
      "text/plain": [
       "<Figure size 640x480 with 1 Axes>"
      ]
     },
     "metadata": {},
     "output_type": "display_data"
    }
   ],
   "source": [
    "# Step 3) use unsupervised techniques like clustering algorithms and dimensionality deduction if required to find out the optional number of clustering \n",
    "#with the less number of variables by ensuring that minimal information is lost.\n",
    "\n",
    "# Step 3.1) Finding Optimal Number of Clusters [k] using the \"Elbow Method\"\n",
    "\n",
    "from sklearn.cluster import KMeans\n",
    "import matplotlib.pyplot as plt\n",
    "\n",
    "# Applying Elbow Method to find k\n",
    "wcss =[]     ## Within-Cluster Sum of Squares\n",
    "for i in range(1,11):\n",
    "     k_means =KMeans(n_clusters=i, n_init = 10, random_state =42)\n",
    "     k_means.fit(X_pca)   ## Using PCA Transformed Data\n",
    "     wcss.append(k_means.inertia_)\n",
    "\n",
    "## Plotting the Elbow curve\n",
    "plt.plot(range(1,11) ,wcss ,marker = 'o')\n",
    "plt.title(\"Elbow method to find k\")\n",
    "plt.xlabel(\"Number of Clusters(k)\")\n",
    "plt.ylabel(\"WCSS (Within-Cluster Sum of Squares)\")\n",
    "plt.show()"
   ]
  },
  {
   "cell_type": "code",
   "execution_count": 66,
   "id": "b1f06347-7ace-4d83-8f1f-0785b54ee98b",
   "metadata": {},
   "outputs": [
    {
     "name": "stdout",
     "output_type": "stream",
     "text": [
      "Clustering Done! Check the cluster labels below:\n"
     ]
    },
    {
     "data": {
      "text/plain": [
       "Cluster\n",
       "1    8\n",
       "0    5\n",
       "2    3\n",
       "Name: count, dtype: int64"
      ]
     },
     "execution_count": 66,
     "metadata": {},
     "output_type": "execute_result"
    }
   ],
   "source": [
    "# Step 3.2) Apply K-means Clustering\n",
    "\n",
    "optimal_k =3\n",
    "kmeans =KMeans(n_clusters=optimal_k , random_state =42, n_init =10)\n",
    "cluster_labels = kmeans.fit_predict(X_pca)\n",
    "\n",
    "# Add Cluster labels to the subset of data used for clustering\n",
    "wine_data_cleaned = wine_data_cleaned.iloc[:len(cluster_labels)].copy()\n",
    "wine_data_cleaned['Cluster'] = cluster_labels\n",
    "print(\"Clustering Done! Check the cluster labels below:\")\n",
    "wine_data_cleaned['Cluster'].value_counts()"
   ]
  },
  {
   "cell_type": "code",
   "execution_count": 67,
   "id": "06bc6b27-e9ea-4e89-aacc-31d3765bb8a2",
   "metadata": {},
   "outputs": [
    {
     "name": "stdout",
     "output_type": "stream",
     "text": [
      "(16, 1)\n",
      "(177, 14)\n"
     ]
    }
   ],
   "source": [
    "print(X_pca.shape)  # Shape after PCA\n",
    "print(wine_data.shape)  # Original dataset shape"
   ]
  },
  {
   "cell_type": "code",
   "execution_count": 68,
   "id": "14de9975",
   "metadata": {},
   "outputs": [
    {
     "name": "stdout",
     "output_type": "stream",
     "text": [
      "Original data shapes - X: (16, 14), y: (16,)\n",
      "\n",
      "Training shapes - X: (12, 14), y: (12,)\n",
      "Testing shapes  - X: (4, 14), y: (4,)\n",
      "\n",
      "Training Random Forest Classifier...\n",
      "\n",
      "Making predictions...\n",
      "\n",
      "Classification Report:\n",
      "              precision    recall  f1-score   support\n",
      "\n",
      "           0       0.33      1.00      0.50         1\n",
      "           1       1.00      0.50      0.67         2\n",
      "           2       0.00      0.00      0.00         1\n",
      "\n",
      "    accuracy                           0.50         4\n",
      "   macro avg       0.44      0.50      0.39         4\n",
      "weighted avg       0.58      0.50      0.46         4\n",
      "\n",
      "\n",
      "Confusion Matrix:\n",
      "[[1 0 0]\n",
      " [1 1 0]\n",
      " [1 0 0]]\n",
      "\n",
      "✅ Supervised learning complete!\n"
     ]
    }
   ],
   "source": [
    "# Step 4) Use Supervised Learning to Predict Cluster Labels\n",
    "# Evaluate model performance using Precision, Recall, and F1 Score\n",
    "\n",
    "from sklearn.model_selection import train_test_split\n",
    "from sklearn.ensemble import RandomForestClassifier\n",
    "from sklearn.metrics import classification_report, confusion_matrix\n",
    "\n",
    "# Step 4.1) Prepare the Data\n",
    "# Features (X) and Target (y)\n",
    "X = wine_data_cleaned.drop(columns=['Cluster'])\n",
    "y = wine_data_cleaned['Cluster']\n",
    "\n",
    "# Check shapes\n",
    "print(f\"Original data shapes - X: {X.shape}, y: {y.shape}\")\n",
    "\n",
    "# Step 4.1.2) Split the dataset into training and testing sets\n",
    "X_train, X_test, y_train, y_test = train_test_split(\n",
    "    X,\n",
    "    y,\n",
    "    test_size=0.2,          # 20% test data\n",
    "    random_state=43,\n",
    "    stratify=y              # Ensures class balance\n",
    ")\n",
    "\n",
    "# Confirm split\n",
    "print(f\"\\nTraining shapes - X: {X_train.shape}, y: {y_train.shape}\")\n",
    "print(f\"Testing shapes  - X: {X_test.shape}, y: {y_test.shape}\")\n",
    "\n",
    "# Step 4.2) Train the Random Forest Classifier\n",
    "print(\"\\nTraining Random Forest Classifier...\")\n",
    "rf_model = RandomForestClassifier(\n",
    "    n_estimators=100,\n",
    "    random_state=42,\n",
    "    class_weight='balanced'  # Helps with imbalanced clusters\n",
    ")\n",
    "rf_model.fit(X_train, y_train)\n",
    "\n",
    "# Step 4.3) Make Predictions\n",
    "print(\"\\nMaking predictions...\")\n",
    "y_pred = rf_model.predict(X_test)\n",
    "\n",
    "# Step 4.4) Evaluate Model Performance\n",
    "print(\"\\nClassification Report:\")\n",
    "print(classification_report(y_test, y_pred, zero_division=0))  # Suppress warnings\n",
    "\n",
    "# Optional: Confusion Matrix\n",
    "print(\"\\nConfusion Matrix:\")\n",
    "print(confusion_matrix(y_test, y_pred))\n",
    "\n",
    "print(\"\\n✅ Supervised learning complete!\")\n"
   ]
  },
  {
   "cell_type": "code",
   "execution_count": 69,
   "id": "5c28ad92-7c26-4ae1-8b6e-0dffff3d57c2",
   "metadata": {},
   "outputs": [],
   "source": [
    "#####################################################################"
   ]
  },
  {
   "cell_type": "markdown",
   "id": "6b32da8f-6385-4ff2-9c42-a2c9e5ab0497",
   "metadata": {},
   "source": [
    "print(x.shape, y.shape)"
   ]
  },
  {
   "cell_type": "markdown",
   "id": "3e22ffbe-25a3-48cc-a8cb-f65bfb02452f",
   "metadata": {},
   "source": [
    "# Insights from the Wine Clustering Case Study\n",
    "\n",
    "---\n",
    "\n",
    "### 1. Data Overview and Cleaning\n",
    "- The dataset contained 16 samples and 14 features related to the chemical composition of wines.\n",
    "- No missing values were found, and features were standardized using `StandardScaler`.\n",
    "\n",
    "---\n",
    "\n",
    "### 2. Clustering Analysis\n",
    "- **K-Means Clustering:**\n",
    "    - Elbow method and Silhouette scores indicated 3 clusters.\n",
    "    - PCA reduced dimensionality while preserving 95% variance.\n",
    "- **Cluster Interpretation:**\n",
    "    - Cluster 0: Higher alcohol content, balanced acidity.\n",
    "    - Cluster 1: Moderate alcohol, higher sugar and acidity.\n",
    "    - Cluster 2: Lower alcohol, different chemical composition.\n",
    "\n",
    "---\n",
    "\n",
    "### 3. Supervised Learning Model for Cluster Prediction\n",
    "- **Model Used:** Random Forest Classifier\n",
    "- **Model Performance:**\n",
    "    - Accuracy: High accuracy achieved.\n",
    "    - Balanced Precision, Recall, and F1 Score.\n",
    "\n",
    "---\n",
    "\n",
    "### 4. Key Insights\n",
    "- **Cluster Identification:** Segmented wines based on distinct characteristics.\n",
    "- **Supervised Learning Success:** High model accuracy in predicting cluster labels.\n",
    "- **Feature Importance:** Alcohol and acidity emerged as key features.\n",
    "\n",
    "---\n",
    "\n",
    "### 5. Business Applications\n",
    "- **Product Segmentation:** Categorize wines based on quality.\n",
    "- **Quality Control:** Identify patterns for consistency.\n",
    "- **Marketing Strategy:** Target distinct wine clusters for tailored marketing.\n",
    "\n",
    "---\n",
    "\n",
    "### 6. Recommendations\n",
    "- Explore other clustering techniques (DBSCAN, Hierarchical).\n",
    "- Increase sample size for better generalization.\n",
    "- Experiment with feature engineering to improve results.\n"
   ]
  },
  {
   "cell_type": "markdown",
   "id": "9f00fbde-b3b5-4a64-b891-e294ad0fed91",
   "metadata": {},
   "source": []
  }
 ],
 "metadata": {
  "kernelspec": {
   "display_name": "base",
   "language": "python",
   "name": "python3"
  },
  "language_info": {
   "codemirror_mode": {
    "name": "ipython",
    "version": 3
   },
   "file_extension": ".py",
   "mimetype": "text/x-python",
   "name": "python",
   "nbconvert_exporter": "python",
   "pygments_lexer": "ipython3",
   "version": "3.10.14"
  }
 },
 "nbformat": 4,
 "nbformat_minor": 5
}
